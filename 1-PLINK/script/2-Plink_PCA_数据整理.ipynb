{
 "cells": [
  {
   "cell_type": "code",
   "execution_count": 22,
   "id": "321d362c",
   "metadata": {
    "vscode": {
     "languageId": "r"
    }
   },
   "outputs": [],
   "source": [
    "library(tidyverse)\n",
    "library(readxl)"
   ]
  },
  {
   "cell_type": "code",
   "execution_count": 23,
   "id": "d8a7618e",
   "metadata": {
    "vscode": {
     "languageId": "r"
    }
   },
   "outputs": [],
   "source": [
    "# 设定工作目录\n",
    "setwd(\"/mnt/d/幽门螺旋杆菌/Script/分析结果/3-PCA/7544_整体_maf99_SNP-noN\")"
   ]
  },
  {
   "cell_type": "code",
   "execution_count": 24,
   "id": "09b0d3eb",
   "metadata": {
    "vscode": {
     "languageId": "r"
    }
   },
   "outputs": [
    {
     "data": {
      "text/html": [
       "<table class=\"dataframe\">\n",
       "<caption>A data.frame: 6 × 21</caption>\n",
       "<thead>\n",
       "\t<tr><th></th><th scope=col>ind</th><th scope=col>PC1</th><th scope=col>PC2</th><th scope=col>PC3</th><th scope=col>PC4</th><th scope=col>PC5</th><th scope=col>PC6</th><th scope=col>PC7</th><th scope=col>PC8</th><th scope=col>PC9</th><th scope=col>⋯</th><th scope=col>PC11</th><th scope=col>PC12</th><th scope=col>PC13</th><th scope=col>PC14</th><th scope=col>PC15</th><th scope=col>PC16</th><th scope=col>PC17</th><th scope=col>PC18</th><th scope=col>PC19</th><th scope=col>PC20</th></tr>\n",
       "\t<tr><th></th><th scope=col>&lt;chr&gt;</th><th scope=col>&lt;dbl&gt;</th><th scope=col>&lt;dbl&gt;</th><th scope=col>&lt;dbl&gt;</th><th scope=col>&lt;dbl&gt;</th><th scope=col>&lt;dbl&gt;</th><th scope=col>&lt;dbl&gt;</th><th scope=col>&lt;dbl&gt;</th><th scope=col>&lt;dbl&gt;</th><th scope=col>&lt;dbl&gt;</th><th scope=col>⋯</th><th scope=col>&lt;dbl&gt;</th><th scope=col>&lt;dbl&gt;</th><th scope=col>&lt;dbl&gt;</th><th scope=col>&lt;dbl&gt;</th><th scope=col>&lt;dbl&gt;</th><th scope=col>&lt;dbl&gt;</th><th scope=col>&lt;dbl&gt;</th><th scope=col>&lt;dbl&gt;</th><th scope=col>&lt;dbl&gt;</th><th scope=col>&lt;dbl&gt;</th></tr>\n",
       "</thead>\n",
       "<tbody>\n",
       "\t<tr><th scope=row>1</th><td>CHL72</td><td>0.0133939</td><td>2.58087e-03</td><td>0.00304781</td><td>0.00271602</td><td>-0.00357282</td><td>-3.33885e-04</td><td> 0.000607168</td><td>-0.004202440</td><td>-0.00281996</td><td>⋯</td><td>-0.00248513</td><td> 0.002265230</td><td>0.006121830</td><td> 0.00274649</td><td> 0.00043367</td><td> 0.003262450</td><td>-0.00853201</td><td>0.004940460</td><td>-0.00245923</td><td>0.00983439</td></tr>\n",
       "\t<tr><th scope=row>2</th><td>CHL30</td><td>0.0125646</td><td>1.62315e-05</td><td>0.00213760</td><td>0.00266301</td><td>-0.00249028</td><td> 5.42875e-04</td><td>-0.005179160</td><td> 0.004113830</td><td>-0.00316568</td><td>⋯</td><td>-0.00380387</td><td>-0.000632304</td><td>0.000739174</td><td> 0.00149733</td><td>-0.00426755</td><td>-0.001572540</td><td>-0.00415899</td><td>0.001522410</td><td>-0.00317080</td><td>0.00898354</td></tr>\n",
       "\t<tr><th scope=row>3</th><td>CHL63</td><td>0.0132996</td><td>1.93270e-03</td><td>0.00452100</td><td>0.00214026</td><td>-0.00504189</td><td> 2.38502e-05</td><td> 0.000554538</td><td>-0.000828402</td><td>-0.00297373</td><td>⋯</td><td>-0.00297861</td><td>-0.001568470</td><td>0.003855570</td><td> 0.00109056</td><td>-0.00246150</td><td>-0.000745628</td><td>-0.00806581</td><td>0.005246910</td><td>-0.00266306</td><td>0.00853551</td></tr>\n",
       "\t<tr><th scope=row>4</th><td>CHL68</td><td>0.0135558</td><td>2.11726e-03</td><td>0.00311564</td><td>0.00274805</td><td>-0.00449809</td><td>-9.41671e-04</td><td>-0.001974170</td><td>-0.001404090</td><td>-0.00143719</td><td>⋯</td><td>-0.00492408</td><td>-0.004128650</td><td>0.001488070</td><td> 0.00368451</td><td>-0.00239725</td><td>-0.003611280</td><td>-0.00581855</td><td>0.006914630</td><td>-0.00162743</td><td>0.01243960</td></tr>\n",
       "\t<tr><th scope=row>5</th><td>CHL40</td><td>0.0134867</td><td>2.05939e-03</td><td>0.00394103</td><td>0.00294958</td><td>-0.00441301</td><td> 1.15837e-04</td><td>-0.002979820</td><td> 0.001545910</td><td>-0.00293281</td><td>⋯</td><td>-0.00381274</td><td>-0.000235120</td><td>0.001698700</td><td>-0.00168185</td><td>-0.00205490</td><td>-0.000456968</td><td>-0.00442026</td><td>0.000828803</td><td>-0.00442988</td><td>0.00893297</td></tr>\n",
       "\t<tr><th scope=row>6</th><td>CHL59</td><td>0.0136467</td><td>2.99275e-03</td><td>0.00380320</td><td>0.00261679</td><td>-0.00635134</td><td>-1.32013e-03</td><td> 0.000946887</td><td>-0.006181100</td><td>-0.00182361</td><td>⋯</td><td>-0.00698843</td><td>-0.002749180</td><td>0.002038130</td><td> 0.00414240</td><td>-0.00112339</td><td>-0.003385690</td><td>-0.00644826</td><td>0.005393300</td><td>-0.00197560</td><td>0.01082680</td></tr>\n",
       "</tbody>\n",
       "</table>\n"
      ],
      "text/latex": [
       "A data.frame: 6 × 21\n",
       "\\begin{tabular}{r|lllllllllllllllllllll}\n",
       "  & ind & PC1 & PC2 & PC3 & PC4 & PC5 & PC6 & PC7 & PC8 & PC9 & ⋯ & PC11 & PC12 & PC13 & PC14 & PC15 & PC16 & PC17 & PC18 & PC19 & PC20\\\\\n",
       "  & <chr> & <dbl> & <dbl> & <dbl> & <dbl> & <dbl> & <dbl> & <dbl> & <dbl> & <dbl> & ⋯ & <dbl> & <dbl> & <dbl> & <dbl> & <dbl> & <dbl> & <dbl> & <dbl> & <dbl> & <dbl>\\\\\n",
       "\\hline\n",
       "\t1 & CHL72 & 0.0133939 & 2.58087e-03 & 0.00304781 & 0.00271602 & -0.00357282 & -3.33885e-04 &  0.000607168 & -0.004202440 & -0.00281996 & ⋯ & -0.00248513 &  0.002265230 & 0.006121830 &  0.00274649 &  0.00043367 &  0.003262450 & -0.00853201 & 0.004940460 & -0.00245923 & 0.00983439\\\\\n",
       "\t2 & CHL30 & 0.0125646 & 1.62315e-05 & 0.00213760 & 0.00266301 & -0.00249028 &  5.42875e-04 & -0.005179160 &  0.004113830 & -0.00316568 & ⋯ & -0.00380387 & -0.000632304 & 0.000739174 &  0.00149733 & -0.00426755 & -0.001572540 & -0.00415899 & 0.001522410 & -0.00317080 & 0.00898354\\\\\n",
       "\t3 & CHL63 & 0.0132996 & 1.93270e-03 & 0.00452100 & 0.00214026 & -0.00504189 &  2.38502e-05 &  0.000554538 & -0.000828402 & -0.00297373 & ⋯ & -0.00297861 & -0.001568470 & 0.003855570 &  0.00109056 & -0.00246150 & -0.000745628 & -0.00806581 & 0.005246910 & -0.00266306 & 0.00853551\\\\\n",
       "\t4 & CHL68 & 0.0135558 & 2.11726e-03 & 0.00311564 & 0.00274805 & -0.00449809 & -9.41671e-04 & -0.001974170 & -0.001404090 & -0.00143719 & ⋯ & -0.00492408 & -0.004128650 & 0.001488070 &  0.00368451 & -0.00239725 & -0.003611280 & -0.00581855 & 0.006914630 & -0.00162743 & 0.01243960\\\\\n",
       "\t5 & CHL40 & 0.0134867 & 2.05939e-03 & 0.00394103 & 0.00294958 & -0.00441301 &  1.15837e-04 & -0.002979820 &  0.001545910 & -0.00293281 & ⋯ & -0.00381274 & -0.000235120 & 0.001698700 & -0.00168185 & -0.00205490 & -0.000456968 & -0.00442026 & 0.000828803 & -0.00442988 & 0.00893297\\\\\n",
       "\t6 & CHL59 & 0.0136467 & 2.99275e-03 & 0.00380320 & 0.00261679 & -0.00635134 & -1.32013e-03 &  0.000946887 & -0.006181100 & -0.00182361 & ⋯ & -0.00698843 & -0.002749180 & 0.002038130 &  0.00414240 & -0.00112339 & -0.003385690 & -0.00644826 & 0.005393300 & -0.00197560 & 0.01082680\\\\\n",
       "\\end{tabular}\n"
      ],
      "text/markdown": [
       "\n",
       "A data.frame: 6 × 21\n",
       "\n",
       "| <!--/--> | ind &lt;chr&gt; | PC1 &lt;dbl&gt; | PC2 &lt;dbl&gt; | PC3 &lt;dbl&gt; | PC4 &lt;dbl&gt; | PC5 &lt;dbl&gt; | PC6 &lt;dbl&gt; | PC7 &lt;dbl&gt; | PC8 &lt;dbl&gt; | PC9 &lt;dbl&gt; | ⋯ ⋯ | PC11 &lt;dbl&gt; | PC12 &lt;dbl&gt; | PC13 &lt;dbl&gt; | PC14 &lt;dbl&gt; | PC15 &lt;dbl&gt; | PC16 &lt;dbl&gt; | PC17 &lt;dbl&gt; | PC18 &lt;dbl&gt; | PC19 &lt;dbl&gt; | PC20 &lt;dbl&gt; |\n",
       "|---|---|---|---|---|---|---|---|---|---|---|---|---|---|---|---|---|---|---|---|---|---|\n",
       "| 1 | CHL72 | 0.0133939 | 2.58087e-03 | 0.00304781 | 0.00271602 | -0.00357282 | -3.33885e-04 |  0.000607168 | -0.004202440 | -0.00281996 | ⋯ | -0.00248513 |  0.002265230 | 0.006121830 |  0.00274649 |  0.00043367 |  0.003262450 | -0.00853201 | 0.004940460 | -0.00245923 | 0.00983439 |\n",
       "| 2 | CHL30 | 0.0125646 | 1.62315e-05 | 0.00213760 | 0.00266301 | -0.00249028 |  5.42875e-04 | -0.005179160 |  0.004113830 | -0.00316568 | ⋯ | -0.00380387 | -0.000632304 | 0.000739174 |  0.00149733 | -0.00426755 | -0.001572540 | -0.00415899 | 0.001522410 | -0.00317080 | 0.00898354 |\n",
       "| 3 | CHL63 | 0.0132996 | 1.93270e-03 | 0.00452100 | 0.00214026 | -0.00504189 |  2.38502e-05 |  0.000554538 | -0.000828402 | -0.00297373 | ⋯ | -0.00297861 | -0.001568470 | 0.003855570 |  0.00109056 | -0.00246150 | -0.000745628 | -0.00806581 | 0.005246910 | -0.00266306 | 0.00853551 |\n",
       "| 4 | CHL68 | 0.0135558 | 2.11726e-03 | 0.00311564 | 0.00274805 | -0.00449809 | -9.41671e-04 | -0.001974170 | -0.001404090 | -0.00143719 | ⋯ | -0.00492408 | -0.004128650 | 0.001488070 |  0.00368451 | -0.00239725 | -0.003611280 | -0.00581855 | 0.006914630 | -0.00162743 | 0.01243960 |\n",
       "| 5 | CHL40 | 0.0134867 | 2.05939e-03 | 0.00394103 | 0.00294958 | -0.00441301 |  1.15837e-04 | -0.002979820 |  0.001545910 | -0.00293281 | ⋯ | -0.00381274 | -0.000235120 | 0.001698700 | -0.00168185 | -0.00205490 | -0.000456968 | -0.00442026 | 0.000828803 | -0.00442988 | 0.00893297 |\n",
       "| 6 | CHL59 | 0.0136467 | 2.99275e-03 | 0.00380320 | 0.00261679 | -0.00635134 | -1.32013e-03 |  0.000946887 | -0.006181100 | -0.00182361 | ⋯ | -0.00698843 | -0.002749180 | 0.002038130 |  0.00414240 | -0.00112339 | -0.003385690 | -0.00644826 | 0.005393300 | -0.00197560 | 0.01082680 |\n",
       "\n"
      ],
      "text/plain": [
       "  ind   PC1       PC2         PC3        PC4        PC5         PC6         \n",
       "1 CHL72 0.0133939 2.58087e-03 0.00304781 0.00271602 -0.00357282 -3.33885e-04\n",
       "2 CHL30 0.0125646 1.62315e-05 0.00213760 0.00266301 -0.00249028  5.42875e-04\n",
       "3 CHL63 0.0132996 1.93270e-03 0.00452100 0.00214026 -0.00504189  2.38502e-05\n",
       "4 CHL68 0.0135558 2.11726e-03 0.00311564 0.00274805 -0.00449809 -9.41671e-04\n",
       "5 CHL40 0.0134867 2.05939e-03 0.00394103 0.00294958 -0.00441301  1.15837e-04\n",
       "6 CHL59 0.0136467 2.99275e-03 0.00380320 0.00261679 -0.00635134 -1.32013e-03\n",
       "  PC7          PC8          PC9         ⋯ PC11        PC12         PC13       \n",
       "1  0.000607168 -0.004202440 -0.00281996 ⋯ -0.00248513  0.002265230 0.006121830\n",
       "2 -0.005179160  0.004113830 -0.00316568 ⋯ -0.00380387 -0.000632304 0.000739174\n",
       "3  0.000554538 -0.000828402 -0.00297373 ⋯ -0.00297861 -0.001568470 0.003855570\n",
       "4 -0.001974170 -0.001404090 -0.00143719 ⋯ -0.00492408 -0.004128650 0.001488070\n",
       "5 -0.002979820  0.001545910 -0.00293281 ⋯ -0.00381274 -0.000235120 0.001698700\n",
       "6  0.000946887 -0.006181100 -0.00182361 ⋯ -0.00698843 -0.002749180 0.002038130\n",
       "  PC14        PC15        PC16         PC17        PC18        PC19       \n",
       "1  0.00274649  0.00043367  0.003262450 -0.00853201 0.004940460 -0.00245923\n",
       "2  0.00149733 -0.00426755 -0.001572540 -0.00415899 0.001522410 -0.00317080\n",
       "3  0.00109056 -0.00246150 -0.000745628 -0.00806581 0.005246910 -0.00266306\n",
       "4  0.00368451 -0.00239725 -0.003611280 -0.00581855 0.006914630 -0.00162743\n",
       "5 -0.00168185 -0.00205490 -0.000456968 -0.00442026 0.000828803 -0.00442988\n",
       "6  0.00414240 -0.00112339 -0.003385690 -0.00644826 0.005393300 -0.00197560\n",
       "  PC20      \n",
       "1 0.00983439\n",
       "2 0.00898354\n",
       "3 0.00853551\n",
       "4 0.01243960\n",
       "5 0.00893297\n",
       "6 0.01082680"
      ]
     },
     "metadata": {},
     "output_type": "display_data"
    }
   ],
   "source": [
    "# 读取PLINK PCA结果\n",
    "pca <- read.table(\"hpglobal_LD_PCA.eigenvec\", header = FALSE, sep = \" \")\n",
    "# 移除第一列\n",
    "pca <- pca %>% select(-V1)\n",
    "#* 设置列名，为PC1,PC2,PC3等\n",
    "num_pcs <- ncol(pca) - 1  # 除去'ind'列\n",
    "colnames(pca) <- c(\"ind\", paste0(\"PC\", 1:num_pcs))\n",
    "head(pca)"
   ]
  },
  {
   "cell_type": "code",
   "execution_count": 25,
   "id": "91561be9",
   "metadata": {
    "vscode": {
     "languageId": "r"
    }
   },
   "outputs": [],
   "source": [
    "# 读取Eigenval文件\n",
    "eigenval <- read.table(\"hpglobal_LD_PCA.eigenval\", header = FALSE, sep = \" \")"
   ]
  },
  {
   "cell_type": "code",
   "execution_count": 26,
   "id": "7e039b2a",
   "metadata": {
    "vscode": {
     "languageId": "r"
    }
   },
   "outputs": [
    {
     "data": {
      "text/html": [
       "<table class=\"dataframe\">\n",
       "<caption>A tibble: 6 × 4</caption>\n",
       "<thead>\n",
       "\t<tr><th scope=col>ID</th><th scope=col>Chromopainter4</th><th scope=col>Species</th><th scope=col>Country</th></tr>\n",
       "\t<tr><th scope=col>&lt;chr&gt;</th><th scope=col>&lt;chr&gt;</th><th scope=col>&lt;chr&gt;</th><th scope=col>&lt;chr&gt;</th></tr>\n",
       "</thead>\n",
       "<tbody>\n",
       "\t<tr><td>HEL_CA3605AA_AS</td><td>hpAfrica1</td><td>H. pylori</td><td>Canada      </td></tr>\n",
       "\t<tr><td>GCA_000310005.2</td><td>hpAfrica1</td><td>H. pylori</td><td>Gambia      </td></tr>\n",
       "\t<tr><td>GCA_015904695.1</td><td>hpAfrica1</td><td>H. pylori</td><td>Mexico      </td></tr>\n",
       "\t<tr><td>GCA_000604265.1</td><td>hpAfrica1</td><td>H. pylori</td><td>South_Africa</td></tr>\n",
       "\t<tr><td>GCA_000476375.1</td><td>hpAfrica1</td><td>H. pylori</td><td>South_Africa</td></tr>\n",
       "\t<tr><td>GCA_000475875.1</td><td>hpAfrica1</td><td>H. pylori</td><td>South_Africa</td></tr>\n",
       "</tbody>\n",
       "</table>\n"
      ],
      "text/latex": [
       "A tibble: 6 × 4\n",
       "\\begin{tabular}{llll}\n",
       " ID & Chromopainter4 & Species & Country\\\\\n",
       " <chr> & <chr> & <chr> & <chr>\\\\\n",
       "\\hline\n",
       "\t HEL\\_CA3605AA\\_AS & hpAfrica1 & H. pylori & Canada      \\\\\n",
       "\t GCA\\_000310005.2 & hpAfrica1 & H. pylori & Gambia      \\\\\n",
       "\t GCA\\_015904695.1 & hpAfrica1 & H. pylori & Mexico      \\\\\n",
       "\t GCA\\_000604265.1 & hpAfrica1 & H. pylori & South\\_Africa\\\\\n",
       "\t GCA\\_000476375.1 & hpAfrica1 & H. pylori & South\\_Africa\\\\\n",
       "\t GCA\\_000475875.1 & hpAfrica1 & H. pylori & South\\_Africa\\\\\n",
       "\\end{tabular}\n"
      ],
      "text/markdown": [
       "\n",
       "A tibble: 6 × 4\n",
       "\n",
       "| ID &lt;chr&gt; | Chromopainter4 &lt;chr&gt; | Species &lt;chr&gt; | Country &lt;chr&gt; |\n",
       "|---|---|---|---|\n",
       "| HEL_CA3605AA_AS | hpAfrica1 | H. pylori | Canada       |\n",
       "| GCA_000310005.2 | hpAfrica1 | H. pylori | Gambia       |\n",
       "| GCA_015904695.1 | hpAfrica1 | H. pylori | Mexico       |\n",
       "| GCA_000604265.1 | hpAfrica1 | H. pylori | South_Africa |\n",
       "| GCA_000476375.1 | hpAfrica1 | H. pylori | South_Africa |\n",
       "| GCA_000475875.1 | hpAfrica1 | H. pylori | South_Africa |\n",
       "\n"
      ],
      "text/plain": [
       "  ID              Chromopainter4 Species   Country     \n",
       "1 HEL_CA3605AA_AS hpAfrica1      H. pylori Canada      \n",
       "2 GCA_000310005.2 hpAfrica1      H. pylori Gambia      \n",
       "3 GCA_015904695.1 hpAfrica1      H. pylori Mexico      \n",
       "4 GCA_000604265.1 hpAfrica1      H. pylori South_Africa\n",
       "5 GCA_000476375.1 hpAfrica1      H. pylori South_Africa\n",
       "6 GCA_000475875.1 hpAfrica1      H. pylori South_Africa"
      ]
     },
     "metadata": {},
     "output_type": "display_data"
    }
   ],
   "source": [
    "# 读取群体数据从/mnt/f/OneDrive/文档（科研）/P0_幽门螺旋杆菌/基础信息表/HP数据收集2.xlsx 的“HP数据收集”中\n",
    "pop <- read_excel(\"/mnt/f/OneDrive/文档（科研）/P0_幽门螺旋杆菌/基础信息表/HP数据收集2.xlsx\", sheet = \"HP数据收集\") |>\n",
    "    select(ID,Chromopainter4,Species,Country)\n",
    "head(pop)"
   ]
  },
  {
   "cell_type": "code",
   "execution_count": 27,
   "id": "9881edce",
   "metadata": {
    "vscode": {
     "languageId": "r"
    }
   },
   "outputs": [
    {
     "data": {
      "text/html": [
       "<table class=\"dataframe\">\n",
       "<caption>A data.frame: 6 × 25</caption>\n",
       "<thead>\n",
       "\t<tr><th></th><th scope=col>ind</th><th scope=col>PC1</th><th scope=col>PC2</th><th scope=col>PC3</th><th scope=col>PC4</th><th scope=col>PC5</th><th scope=col>PC6</th><th scope=col>PC7</th><th scope=col>PC8</th><th scope=col>PC9</th><th scope=col>⋯</th><th scope=col>PC15</th><th scope=col>PC16</th><th scope=col>PC17</th><th scope=col>PC18</th><th scope=col>PC19</th><th scope=col>PC20</th><th scope=col>Chromopainter4</th><th scope=col>Species</th><th scope=col>Country</th><th scope=col>Class_small</th></tr>\n",
       "\t<tr><th></th><th scope=col>&lt;chr&gt;</th><th scope=col>&lt;dbl&gt;</th><th scope=col>&lt;dbl&gt;</th><th scope=col>&lt;dbl&gt;</th><th scope=col>&lt;dbl&gt;</th><th scope=col>&lt;dbl&gt;</th><th scope=col>&lt;dbl&gt;</th><th scope=col>&lt;dbl&gt;</th><th scope=col>&lt;dbl&gt;</th><th scope=col>&lt;dbl&gt;</th><th scope=col>⋯</th><th scope=col>&lt;dbl&gt;</th><th scope=col>&lt;dbl&gt;</th><th scope=col>&lt;dbl&gt;</th><th scope=col>&lt;dbl&gt;</th><th scope=col>&lt;dbl&gt;</th><th scope=col>&lt;dbl&gt;</th><th scope=col>&lt;chr&gt;</th><th scope=col>&lt;chr&gt;</th><th scope=col>&lt;chr&gt;</th><th scope=col>&lt;chr&gt;</th></tr>\n",
       "</thead>\n",
       "<tbody>\n",
       "\t<tr><th scope=row>1</th><td>CHL72</td><td>0.0133939</td><td>2.58087e-03</td><td>0.00304781</td><td>0.00271602</td><td>-0.00357282</td><td>-3.33885e-04</td><td> 0.000607168</td><td>-0.004202440</td><td>-0.00281996</td><td>⋯</td><td> 0.00043367</td><td> 0.003262450</td><td>-0.00853201</td><td>0.004940460</td><td>-0.00245923</td><td>0.00983439</td><td>hspLAEAChinaNS</td><td>H. pylori</td><td>China</td><td>hspLAEAChinaNS_China</td></tr>\n",
       "\t<tr><th scope=row>2</th><td>CHL30</td><td>0.0125646</td><td>1.62315e-05</td><td>0.00213760</td><td>0.00266301</td><td>-0.00249028</td><td> 5.42875e-04</td><td>-0.005179160</td><td> 0.004113830</td><td>-0.00316568</td><td>⋯</td><td>-0.00426755</td><td>-0.001572540</td><td>-0.00415899</td><td>0.001522410</td><td>-0.00317080</td><td>0.00898354</td><td>hspLAEAChinaN </td><td>H. pylori</td><td>China</td><td>hspLAEAChinaN_China </td></tr>\n",
       "\t<tr><th scope=row>3</th><td>CHL63</td><td>0.0132996</td><td>1.93270e-03</td><td>0.00452100</td><td>0.00214026</td><td>-0.00504189</td><td> 2.38502e-05</td><td> 0.000554538</td><td>-0.000828402</td><td>-0.00297373</td><td>⋯</td><td>-0.00246150</td><td>-0.000745628</td><td>-0.00806581</td><td>0.005246910</td><td>-0.00266306</td><td>0.00853551</td><td>hspLAEAChinaNS</td><td>H. pylori</td><td>China</td><td>hspLAEAChinaNS_China</td></tr>\n",
       "\t<tr><th scope=row>4</th><td>CHL68</td><td>0.0135558</td><td>2.11726e-03</td><td>0.00311564</td><td>0.00274805</td><td>-0.00449809</td><td>-9.41671e-04</td><td>-0.001974170</td><td>-0.001404090</td><td>-0.00143719</td><td>⋯</td><td>-0.00239725</td><td>-0.003611280</td><td>-0.00581855</td><td>0.006914630</td><td>-0.00162743</td><td>0.01243960</td><td>hspLAEAChinaNS</td><td>H. pylori</td><td>China</td><td>hspLAEAChinaNS_China</td></tr>\n",
       "\t<tr><th scope=row>5</th><td>CHL40</td><td>0.0134867</td><td>2.05939e-03</td><td>0.00394103</td><td>0.00294958</td><td>-0.00441301</td><td> 1.15837e-04</td><td>-0.002979820</td><td> 0.001545910</td><td>-0.00293281</td><td>⋯</td><td>-0.00205490</td><td>-0.000456968</td><td>-0.00442026</td><td>0.000828803</td><td>-0.00442988</td><td>0.00893297</td><td>hspLAEAChinaN </td><td>H. pylori</td><td>China</td><td>hspLAEAChinaN_China </td></tr>\n",
       "\t<tr><th scope=row>6</th><td>CHL59</td><td>0.0136467</td><td>2.99275e-03</td><td>0.00380320</td><td>0.00261679</td><td>-0.00635134</td><td>-1.32013e-03</td><td> 0.000946887</td><td>-0.006181100</td><td>-0.00182361</td><td>⋯</td><td>-0.00112339</td><td>-0.003385690</td><td>-0.00644826</td><td>0.005393300</td><td>-0.00197560</td><td>0.01082680</td><td>hspLAEAChinaNS</td><td>H. pylori</td><td>China</td><td>hspLAEAChinaNS_China</td></tr>\n",
       "</tbody>\n",
       "</table>\n"
      ],
      "text/latex": [
       "A data.frame: 6 × 25\n",
       "\\begin{tabular}{r|lllllllllllllllllllll}\n",
       "  & ind & PC1 & PC2 & PC3 & PC4 & PC5 & PC6 & PC7 & PC8 & PC9 & ⋯ & PC15 & PC16 & PC17 & PC18 & PC19 & PC20 & Chromopainter4 & Species & Country & Class\\_small\\\\\n",
       "  & <chr> & <dbl> & <dbl> & <dbl> & <dbl> & <dbl> & <dbl> & <dbl> & <dbl> & <dbl> & ⋯ & <dbl> & <dbl> & <dbl> & <dbl> & <dbl> & <dbl> & <chr> & <chr> & <chr> & <chr>\\\\\n",
       "\\hline\n",
       "\t1 & CHL72 & 0.0133939 & 2.58087e-03 & 0.00304781 & 0.00271602 & -0.00357282 & -3.33885e-04 &  0.000607168 & -0.004202440 & -0.00281996 & ⋯ &  0.00043367 &  0.003262450 & -0.00853201 & 0.004940460 & -0.00245923 & 0.00983439 & hspLAEAChinaNS & H. pylori & China & hspLAEAChinaNS\\_China\\\\\n",
       "\t2 & CHL30 & 0.0125646 & 1.62315e-05 & 0.00213760 & 0.00266301 & -0.00249028 &  5.42875e-04 & -0.005179160 &  0.004113830 & -0.00316568 & ⋯ & -0.00426755 & -0.001572540 & -0.00415899 & 0.001522410 & -0.00317080 & 0.00898354 & hspLAEAChinaN  & H. pylori & China & hspLAEAChinaN\\_China \\\\\n",
       "\t3 & CHL63 & 0.0132996 & 1.93270e-03 & 0.00452100 & 0.00214026 & -0.00504189 &  2.38502e-05 &  0.000554538 & -0.000828402 & -0.00297373 & ⋯ & -0.00246150 & -0.000745628 & -0.00806581 & 0.005246910 & -0.00266306 & 0.00853551 & hspLAEAChinaNS & H. pylori & China & hspLAEAChinaNS\\_China\\\\\n",
       "\t4 & CHL68 & 0.0135558 & 2.11726e-03 & 0.00311564 & 0.00274805 & -0.00449809 & -9.41671e-04 & -0.001974170 & -0.001404090 & -0.00143719 & ⋯ & -0.00239725 & -0.003611280 & -0.00581855 & 0.006914630 & -0.00162743 & 0.01243960 & hspLAEAChinaNS & H. pylori & China & hspLAEAChinaNS\\_China\\\\\n",
       "\t5 & CHL40 & 0.0134867 & 2.05939e-03 & 0.00394103 & 0.00294958 & -0.00441301 &  1.15837e-04 & -0.002979820 &  0.001545910 & -0.00293281 & ⋯ & -0.00205490 & -0.000456968 & -0.00442026 & 0.000828803 & -0.00442988 & 0.00893297 & hspLAEAChinaN  & H. pylori & China & hspLAEAChinaN\\_China \\\\\n",
       "\t6 & CHL59 & 0.0136467 & 2.99275e-03 & 0.00380320 & 0.00261679 & -0.00635134 & -1.32013e-03 &  0.000946887 & -0.006181100 & -0.00182361 & ⋯ & -0.00112339 & -0.003385690 & -0.00644826 & 0.005393300 & -0.00197560 & 0.01082680 & hspLAEAChinaNS & H. pylori & China & hspLAEAChinaNS\\_China\\\\\n",
       "\\end{tabular}\n"
      ],
      "text/markdown": [
       "\n",
       "A data.frame: 6 × 25\n",
       "\n",
       "| <!--/--> | ind &lt;chr&gt; | PC1 &lt;dbl&gt; | PC2 &lt;dbl&gt; | PC3 &lt;dbl&gt; | PC4 &lt;dbl&gt; | PC5 &lt;dbl&gt; | PC6 &lt;dbl&gt; | PC7 &lt;dbl&gt; | PC8 &lt;dbl&gt; | PC9 &lt;dbl&gt; | ⋯ ⋯ | PC15 &lt;dbl&gt; | PC16 &lt;dbl&gt; | PC17 &lt;dbl&gt; | PC18 &lt;dbl&gt; | PC19 &lt;dbl&gt; | PC20 &lt;dbl&gt; | Chromopainter4 &lt;chr&gt; | Species &lt;chr&gt; | Country &lt;chr&gt; | Class_small &lt;chr&gt; |\n",
       "|---|---|---|---|---|---|---|---|---|---|---|---|---|---|---|---|---|---|---|---|---|---|\n",
       "| 1 | CHL72 | 0.0133939 | 2.58087e-03 | 0.00304781 | 0.00271602 | -0.00357282 | -3.33885e-04 |  0.000607168 | -0.004202440 | -0.00281996 | ⋯ |  0.00043367 |  0.003262450 | -0.00853201 | 0.004940460 | -0.00245923 | 0.00983439 | hspLAEAChinaNS | H. pylori | China | hspLAEAChinaNS_China |\n",
       "| 2 | CHL30 | 0.0125646 | 1.62315e-05 | 0.00213760 | 0.00266301 | -0.00249028 |  5.42875e-04 | -0.005179160 |  0.004113830 | -0.00316568 | ⋯ | -0.00426755 | -0.001572540 | -0.00415899 | 0.001522410 | -0.00317080 | 0.00898354 | hspLAEAChinaN  | H. pylori | China | hspLAEAChinaN_China  |\n",
       "| 3 | CHL63 | 0.0132996 | 1.93270e-03 | 0.00452100 | 0.00214026 | -0.00504189 |  2.38502e-05 |  0.000554538 | -0.000828402 | -0.00297373 | ⋯ | -0.00246150 | -0.000745628 | -0.00806581 | 0.005246910 | -0.00266306 | 0.00853551 | hspLAEAChinaNS | H. pylori | China | hspLAEAChinaNS_China |\n",
       "| 4 | CHL68 | 0.0135558 | 2.11726e-03 | 0.00311564 | 0.00274805 | -0.00449809 | -9.41671e-04 | -0.001974170 | -0.001404090 | -0.00143719 | ⋯ | -0.00239725 | -0.003611280 | -0.00581855 | 0.006914630 | -0.00162743 | 0.01243960 | hspLAEAChinaNS | H. pylori | China | hspLAEAChinaNS_China |\n",
       "| 5 | CHL40 | 0.0134867 | 2.05939e-03 | 0.00394103 | 0.00294958 | -0.00441301 |  1.15837e-04 | -0.002979820 |  0.001545910 | -0.00293281 | ⋯ | -0.00205490 | -0.000456968 | -0.00442026 | 0.000828803 | -0.00442988 | 0.00893297 | hspLAEAChinaN  | H. pylori | China | hspLAEAChinaN_China  |\n",
       "| 6 | CHL59 | 0.0136467 | 2.99275e-03 | 0.00380320 | 0.00261679 | -0.00635134 | -1.32013e-03 |  0.000946887 | -0.006181100 | -0.00182361 | ⋯ | -0.00112339 | -0.003385690 | -0.00644826 | 0.005393300 | -0.00197560 | 0.01082680 | hspLAEAChinaNS | H. pylori | China | hspLAEAChinaNS_China |\n",
       "\n"
      ],
      "text/plain": [
       "  ind   PC1       PC2         PC3        PC4        PC5         PC6         \n",
       "1 CHL72 0.0133939 2.58087e-03 0.00304781 0.00271602 -0.00357282 -3.33885e-04\n",
       "2 CHL30 0.0125646 1.62315e-05 0.00213760 0.00266301 -0.00249028  5.42875e-04\n",
       "3 CHL63 0.0132996 1.93270e-03 0.00452100 0.00214026 -0.00504189  2.38502e-05\n",
       "4 CHL68 0.0135558 2.11726e-03 0.00311564 0.00274805 -0.00449809 -9.41671e-04\n",
       "5 CHL40 0.0134867 2.05939e-03 0.00394103 0.00294958 -0.00441301  1.15837e-04\n",
       "6 CHL59 0.0136467 2.99275e-03 0.00380320 0.00261679 -0.00635134 -1.32013e-03\n",
       "  PC7          PC8          PC9         ⋯ PC15        PC16         PC17       \n",
       "1  0.000607168 -0.004202440 -0.00281996 ⋯  0.00043367  0.003262450 -0.00853201\n",
       "2 -0.005179160  0.004113830 -0.00316568 ⋯ -0.00426755 -0.001572540 -0.00415899\n",
       "3  0.000554538 -0.000828402 -0.00297373 ⋯ -0.00246150 -0.000745628 -0.00806581\n",
       "4 -0.001974170 -0.001404090 -0.00143719 ⋯ -0.00239725 -0.003611280 -0.00581855\n",
       "5 -0.002979820  0.001545910 -0.00293281 ⋯ -0.00205490 -0.000456968 -0.00442026\n",
       "6  0.000946887 -0.006181100 -0.00182361 ⋯ -0.00112339 -0.003385690 -0.00644826\n",
       "  PC18        PC19        PC20       Chromopainter4 Species   Country\n",
       "1 0.004940460 -0.00245923 0.00983439 hspLAEAChinaNS H. pylori China  \n",
       "2 0.001522410 -0.00317080 0.00898354 hspLAEAChinaN  H. pylori China  \n",
       "3 0.005246910 -0.00266306 0.00853551 hspLAEAChinaNS H. pylori China  \n",
       "4 0.006914630 -0.00162743 0.01243960 hspLAEAChinaNS H. pylori China  \n",
       "5 0.000828803 -0.00442988 0.00893297 hspLAEAChinaN  H. pylori China  \n",
       "6 0.005393300 -0.00197560 0.01082680 hspLAEAChinaNS H. pylori China  \n",
       "  Class_small         \n",
       "1 hspLAEAChinaNS_China\n",
       "2 hspLAEAChinaN_China \n",
       "3 hspLAEAChinaNS_China\n",
       "4 hspLAEAChinaNS_China\n",
       "5 hspLAEAChinaN_China \n",
       "6 hspLAEAChinaNS_China"
      ]
     },
     "metadata": {},
     "output_type": "display_data"
    }
   ],
   "source": [
    "#* 将群体数据与PCA结果合并\n",
    "pca_pop <- pca %>%\n",
    "    left_join(pop, by = c(\"ind\" = \"ID\"))\n",
    "#* 新增一列名为Class_small,内容 = Chromopainter4 + '_' + Country\n",
    "pca_pop <- pca_pop |> \n",
    "    mutate(Class_small = paste(Chromopainter4, Country,sep = '_')) \n",
    "head(pca_pop)"
   ]
  },
  {
   "cell_type": "code",
   "execution_count": 28,
   "id": "f6553d1e",
   "metadata": {
    "vscode": {
     "languageId": "r"
    }
   },
   "outputs": [],
   "source": [
    "# 重命名列名，将Chromopainter4改为Class_Big\n",
    "pca_pop <- pca_pop %>%\n",
    "    rename(Class_big = Chromopainter4 , ID = ind)"
   ]
  },
  {
   "cell_type": "code",
   "execution_count": 29,
   "id": "13c81560",
   "metadata": {
    "vscode": {
     "languageId": "r"
    }
   },
   "outputs": [
    {
     "data": {
      "text/html": [
       "<table class=\"dataframe\">\n",
       "<caption>A data.frame: 6 × 25</caption>\n",
       "<thead>\n",
       "\t<tr><th></th><th scope=col>ID</th><th scope=col>PC1</th><th scope=col>PC2</th><th scope=col>PC3</th><th scope=col>PC4</th><th scope=col>PC5</th><th scope=col>PC6</th><th scope=col>PC7</th><th scope=col>PC8</th><th scope=col>PC9</th><th scope=col>⋯</th><th scope=col>PC15</th><th scope=col>PC16</th><th scope=col>PC17</th><th scope=col>PC18</th><th scope=col>PC19</th><th scope=col>PC20</th><th scope=col>Class_big</th><th scope=col>Species</th><th scope=col>Country</th><th scope=col>Class_small</th></tr>\n",
       "\t<tr><th></th><th scope=col>&lt;chr&gt;</th><th scope=col>&lt;dbl&gt;</th><th scope=col>&lt;dbl&gt;</th><th scope=col>&lt;dbl&gt;</th><th scope=col>&lt;dbl&gt;</th><th scope=col>&lt;dbl&gt;</th><th scope=col>&lt;dbl&gt;</th><th scope=col>&lt;dbl&gt;</th><th scope=col>&lt;dbl&gt;</th><th scope=col>&lt;dbl&gt;</th><th scope=col>⋯</th><th scope=col>&lt;dbl&gt;</th><th scope=col>&lt;dbl&gt;</th><th scope=col>&lt;dbl&gt;</th><th scope=col>&lt;dbl&gt;</th><th scope=col>&lt;dbl&gt;</th><th scope=col>&lt;dbl&gt;</th><th scope=col>&lt;chr&gt;</th><th scope=col>&lt;chr&gt;</th><th scope=col>&lt;chr&gt;</th><th scope=col>&lt;chr&gt;</th></tr>\n",
       "</thead>\n",
       "<tbody>\n",
       "\t<tr><th scope=row>1</th><td>CHL72</td><td>0.0133939</td><td>2.58087e-03</td><td>0.00304781</td><td>0.00271602</td><td>-0.00357282</td><td>-3.33885e-04</td><td> 0.000607168</td><td>-0.004202440</td><td>-0.00281996</td><td>⋯</td><td> 0.00043367</td><td> 0.003262450</td><td>-0.00853201</td><td>0.004940460</td><td>-0.00245923</td><td>0.00983439</td><td>hspLAEAChinaNS</td><td>H. pylori</td><td>China</td><td>hspLAEAChinaNS_China</td></tr>\n",
       "\t<tr><th scope=row>2</th><td>CHL30</td><td>0.0125646</td><td>1.62315e-05</td><td>0.00213760</td><td>0.00266301</td><td>-0.00249028</td><td> 5.42875e-04</td><td>-0.005179160</td><td> 0.004113830</td><td>-0.00316568</td><td>⋯</td><td>-0.00426755</td><td>-0.001572540</td><td>-0.00415899</td><td>0.001522410</td><td>-0.00317080</td><td>0.00898354</td><td>hspLAEAChinaN </td><td>H. pylori</td><td>China</td><td>hspLAEAChinaN_China </td></tr>\n",
       "\t<tr><th scope=row>3</th><td>CHL63</td><td>0.0132996</td><td>1.93270e-03</td><td>0.00452100</td><td>0.00214026</td><td>-0.00504189</td><td> 2.38502e-05</td><td> 0.000554538</td><td>-0.000828402</td><td>-0.00297373</td><td>⋯</td><td>-0.00246150</td><td>-0.000745628</td><td>-0.00806581</td><td>0.005246910</td><td>-0.00266306</td><td>0.00853551</td><td>hspLAEAChinaNS</td><td>H. pylori</td><td>China</td><td>hspLAEAChinaNS_China</td></tr>\n",
       "\t<tr><th scope=row>4</th><td>CHL68</td><td>0.0135558</td><td>2.11726e-03</td><td>0.00311564</td><td>0.00274805</td><td>-0.00449809</td><td>-9.41671e-04</td><td>-0.001974170</td><td>-0.001404090</td><td>-0.00143719</td><td>⋯</td><td>-0.00239725</td><td>-0.003611280</td><td>-0.00581855</td><td>0.006914630</td><td>-0.00162743</td><td>0.01243960</td><td>hspLAEAChinaNS</td><td>H. pylori</td><td>China</td><td>hspLAEAChinaNS_China</td></tr>\n",
       "\t<tr><th scope=row>5</th><td>CHL40</td><td>0.0134867</td><td>2.05939e-03</td><td>0.00394103</td><td>0.00294958</td><td>-0.00441301</td><td> 1.15837e-04</td><td>-0.002979820</td><td> 0.001545910</td><td>-0.00293281</td><td>⋯</td><td>-0.00205490</td><td>-0.000456968</td><td>-0.00442026</td><td>0.000828803</td><td>-0.00442988</td><td>0.00893297</td><td>hspLAEAChinaN </td><td>H. pylori</td><td>China</td><td>hspLAEAChinaN_China </td></tr>\n",
       "\t<tr><th scope=row>6</th><td>CHL59</td><td>0.0136467</td><td>2.99275e-03</td><td>0.00380320</td><td>0.00261679</td><td>-0.00635134</td><td>-1.32013e-03</td><td> 0.000946887</td><td>-0.006181100</td><td>-0.00182361</td><td>⋯</td><td>-0.00112339</td><td>-0.003385690</td><td>-0.00644826</td><td>0.005393300</td><td>-0.00197560</td><td>0.01082680</td><td>hspLAEAChinaNS</td><td>H. pylori</td><td>China</td><td>hspLAEAChinaNS_China</td></tr>\n",
       "</tbody>\n",
       "</table>\n"
      ],
      "text/latex": [
       "A data.frame: 6 × 25\n",
       "\\begin{tabular}{r|lllllllllllllllllllll}\n",
       "  & ID & PC1 & PC2 & PC3 & PC4 & PC5 & PC6 & PC7 & PC8 & PC9 & ⋯ & PC15 & PC16 & PC17 & PC18 & PC19 & PC20 & Class\\_big & Species & Country & Class\\_small\\\\\n",
       "  & <chr> & <dbl> & <dbl> & <dbl> & <dbl> & <dbl> & <dbl> & <dbl> & <dbl> & <dbl> & ⋯ & <dbl> & <dbl> & <dbl> & <dbl> & <dbl> & <dbl> & <chr> & <chr> & <chr> & <chr>\\\\\n",
       "\\hline\n",
       "\t1 & CHL72 & 0.0133939 & 2.58087e-03 & 0.00304781 & 0.00271602 & -0.00357282 & -3.33885e-04 &  0.000607168 & -0.004202440 & -0.00281996 & ⋯ &  0.00043367 &  0.003262450 & -0.00853201 & 0.004940460 & -0.00245923 & 0.00983439 & hspLAEAChinaNS & H. pylori & China & hspLAEAChinaNS\\_China\\\\\n",
       "\t2 & CHL30 & 0.0125646 & 1.62315e-05 & 0.00213760 & 0.00266301 & -0.00249028 &  5.42875e-04 & -0.005179160 &  0.004113830 & -0.00316568 & ⋯ & -0.00426755 & -0.001572540 & -0.00415899 & 0.001522410 & -0.00317080 & 0.00898354 & hspLAEAChinaN  & H. pylori & China & hspLAEAChinaN\\_China \\\\\n",
       "\t3 & CHL63 & 0.0132996 & 1.93270e-03 & 0.00452100 & 0.00214026 & -0.00504189 &  2.38502e-05 &  0.000554538 & -0.000828402 & -0.00297373 & ⋯ & -0.00246150 & -0.000745628 & -0.00806581 & 0.005246910 & -0.00266306 & 0.00853551 & hspLAEAChinaNS & H. pylori & China & hspLAEAChinaNS\\_China\\\\\n",
       "\t4 & CHL68 & 0.0135558 & 2.11726e-03 & 0.00311564 & 0.00274805 & -0.00449809 & -9.41671e-04 & -0.001974170 & -0.001404090 & -0.00143719 & ⋯ & -0.00239725 & -0.003611280 & -0.00581855 & 0.006914630 & -0.00162743 & 0.01243960 & hspLAEAChinaNS & H. pylori & China & hspLAEAChinaNS\\_China\\\\\n",
       "\t5 & CHL40 & 0.0134867 & 2.05939e-03 & 0.00394103 & 0.00294958 & -0.00441301 &  1.15837e-04 & -0.002979820 &  0.001545910 & -0.00293281 & ⋯ & -0.00205490 & -0.000456968 & -0.00442026 & 0.000828803 & -0.00442988 & 0.00893297 & hspLAEAChinaN  & H. pylori & China & hspLAEAChinaN\\_China \\\\\n",
       "\t6 & CHL59 & 0.0136467 & 2.99275e-03 & 0.00380320 & 0.00261679 & -0.00635134 & -1.32013e-03 &  0.000946887 & -0.006181100 & -0.00182361 & ⋯ & -0.00112339 & -0.003385690 & -0.00644826 & 0.005393300 & -0.00197560 & 0.01082680 & hspLAEAChinaNS & H. pylori & China & hspLAEAChinaNS\\_China\\\\\n",
       "\\end{tabular}\n"
      ],
      "text/markdown": [
       "\n",
       "A data.frame: 6 × 25\n",
       "\n",
       "| <!--/--> | ID &lt;chr&gt; | PC1 &lt;dbl&gt; | PC2 &lt;dbl&gt; | PC3 &lt;dbl&gt; | PC4 &lt;dbl&gt; | PC5 &lt;dbl&gt; | PC6 &lt;dbl&gt; | PC7 &lt;dbl&gt; | PC8 &lt;dbl&gt; | PC9 &lt;dbl&gt; | ⋯ ⋯ | PC15 &lt;dbl&gt; | PC16 &lt;dbl&gt; | PC17 &lt;dbl&gt; | PC18 &lt;dbl&gt; | PC19 &lt;dbl&gt; | PC20 &lt;dbl&gt; | Class_big &lt;chr&gt; | Species &lt;chr&gt; | Country &lt;chr&gt; | Class_small &lt;chr&gt; |\n",
       "|---|---|---|---|---|---|---|---|---|---|---|---|---|---|---|---|---|---|---|---|---|---|\n",
       "| 1 | CHL72 | 0.0133939 | 2.58087e-03 | 0.00304781 | 0.00271602 | -0.00357282 | -3.33885e-04 |  0.000607168 | -0.004202440 | -0.00281996 | ⋯ |  0.00043367 |  0.003262450 | -0.00853201 | 0.004940460 | -0.00245923 | 0.00983439 | hspLAEAChinaNS | H. pylori | China | hspLAEAChinaNS_China |\n",
       "| 2 | CHL30 | 0.0125646 | 1.62315e-05 | 0.00213760 | 0.00266301 | -0.00249028 |  5.42875e-04 | -0.005179160 |  0.004113830 | -0.00316568 | ⋯ | -0.00426755 | -0.001572540 | -0.00415899 | 0.001522410 | -0.00317080 | 0.00898354 | hspLAEAChinaN  | H. pylori | China | hspLAEAChinaN_China  |\n",
       "| 3 | CHL63 | 0.0132996 | 1.93270e-03 | 0.00452100 | 0.00214026 | -0.00504189 |  2.38502e-05 |  0.000554538 | -0.000828402 | -0.00297373 | ⋯ | -0.00246150 | -0.000745628 | -0.00806581 | 0.005246910 | -0.00266306 | 0.00853551 | hspLAEAChinaNS | H. pylori | China | hspLAEAChinaNS_China |\n",
       "| 4 | CHL68 | 0.0135558 | 2.11726e-03 | 0.00311564 | 0.00274805 | -0.00449809 | -9.41671e-04 | -0.001974170 | -0.001404090 | -0.00143719 | ⋯ | -0.00239725 | -0.003611280 | -0.00581855 | 0.006914630 | -0.00162743 | 0.01243960 | hspLAEAChinaNS | H. pylori | China | hspLAEAChinaNS_China |\n",
       "| 5 | CHL40 | 0.0134867 | 2.05939e-03 | 0.00394103 | 0.00294958 | -0.00441301 |  1.15837e-04 | -0.002979820 |  0.001545910 | -0.00293281 | ⋯ | -0.00205490 | -0.000456968 | -0.00442026 | 0.000828803 | -0.00442988 | 0.00893297 | hspLAEAChinaN  | H. pylori | China | hspLAEAChinaN_China  |\n",
       "| 6 | CHL59 | 0.0136467 | 2.99275e-03 | 0.00380320 | 0.00261679 | -0.00635134 | -1.32013e-03 |  0.000946887 | -0.006181100 | -0.00182361 | ⋯ | -0.00112339 | -0.003385690 | -0.00644826 | 0.005393300 | -0.00197560 | 0.01082680 | hspLAEAChinaNS | H. pylori | China | hspLAEAChinaNS_China |\n",
       "\n"
      ],
      "text/plain": [
       "  ID    PC1       PC2         PC3        PC4        PC5         PC6         \n",
       "1 CHL72 0.0133939 2.58087e-03 0.00304781 0.00271602 -0.00357282 -3.33885e-04\n",
       "2 CHL30 0.0125646 1.62315e-05 0.00213760 0.00266301 -0.00249028  5.42875e-04\n",
       "3 CHL63 0.0132996 1.93270e-03 0.00452100 0.00214026 -0.00504189  2.38502e-05\n",
       "4 CHL68 0.0135558 2.11726e-03 0.00311564 0.00274805 -0.00449809 -9.41671e-04\n",
       "5 CHL40 0.0134867 2.05939e-03 0.00394103 0.00294958 -0.00441301  1.15837e-04\n",
       "6 CHL59 0.0136467 2.99275e-03 0.00380320 0.00261679 -0.00635134 -1.32013e-03\n",
       "  PC7          PC8          PC9         ⋯ PC15        PC16         PC17       \n",
       "1  0.000607168 -0.004202440 -0.00281996 ⋯  0.00043367  0.003262450 -0.00853201\n",
       "2 -0.005179160  0.004113830 -0.00316568 ⋯ -0.00426755 -0.001572540 -0.00415899\n",
       "3  0.000554538 -0.000828402 -0.00297373 ⋯ -0.00246150 -0.000745628 -0.00806581\n",
       "4 -0.001974170 -0.001404090 -0.00143719 ⋯ -0.00239725 -0.003611280 -0.00581855\n",
       "5 -0.002979820  0.001545910 -0.00293281 ⋯ -0.00205490 -0.000456968 -0.00442026\n",
       "6  0.000946887 -0.006181100 -0.00182361 ⋯ -0.00112339 -0.003385690 -0.00644826\n",
       "  PC18        PC19        PC20       Class_big      Species   Country\n",
       "1 0.004940460 -0.00245923 0.00983439 hspLAEAChinaNS H. pylori China  \n",
       "2 0.001522410 -0.00317080 0.00898354 hspLAEAChinaN  H. pylori China  \n",
       "3 0.005246910 -0.00266306 0.00853551 hspLAEAChinaNS H. pylori China  \n",
       "4 0.006914630 -0.00162743 0.01243960 hspLAEAChinaNS H. pylori China  \n",
       "5 0.000828803 -0.00442988 0.00893297 hspLAEAChinaN  H. pylori China  \n",
       "6 0.005393300 -0.00197560 0.01082680 hspLAEAChinaNS H. pylori China  \n",
       "  Class_small         \n",
       "1 hspLAEAChinaNS_China\n",
       "2 hspLAEAChinaN_China \n",
       "3 hspLAEAChinaNS_China\n",
       "4 hspLAEAChinaNS_China\n",
       "5 hspLAEAChinaN_China \n",
       "6 hspLAEAChinaNS_China"
      ]
     },
     "metadata": {},
     "output_type": "display_data"
    }
   ],
   "source": [
    "#! 将数据导出为csv文件\n",
    "write.csv(pca_pop, \"PCA_pop.csv\", row.names = FALSE)\n",
    "head(pca_pop)"
   ]
  },
  {
   "cell_type": "code",
   "execution_count": 30,
   "id": "e550b949",
   "metadata": {
    "vscode": {
     "languageId": "r"
    }
   },
   "outputs": [
    {
     "data": {
      "text/html": [
       "<table class=\"dataframe\">\n",
       "<caption>A data.frame: 6 × 2</caption>\n",
       "<thead>\n",
       "\t<tr><th></th><th scope=col>PC</th><th scope=col>Eigenvalue</th></tr>\n",
       "\t<tr><th></th><th scope=col>&lt;fct&gt;</th><th scope=col>&lt;dbl&gt;</th></tr>\n",
       "</thead>\n",
       "<tbody>\n",
       "\t<tr><th scope=row>1</th><td>PC1</td><td>1570.980</td></tr>\n",
       "\t<tr><th scope=row>2</th><td>PC2</td><td> 443.706</td></tr>\n",
       "\t<tr><th scope=row>3</th><td>PC3</td><td> 360.164</td></tr>\n",
       "\t<tr><th scope=row>4</th><td>PC4</td><td> 232.922</td></tr>\n",
       "\t<tr><th scope=row>5</th><td>PC5</td><td> 189.084</td></tr>\n",
       "\t<tr><th scope=row>6</th><td>PC6</td><td> 163.834</td></tr>\n",
       "</tbody>\n",
       "</table>\n"
      ],
      "text/latex": [
       "A data.frame: 6 × 2\n",
       "\\begin{tabular}{r|ll}\n",
       "  & PC & Eigenvalue\\\\\n",
       "  & <fct> & <dbl>\\\\\n",
       "\\hline\n",
       "\t1 & PC1 & 1570.980\\\\\n",
       "\t2 & PC2 &  443.706\\\\\n",
       "\t3 & PC3 &  360.164\\\\\n",
       "\t4 & PC4 &  232.922\\\\\n",
       "\t5 & PC5 &  189.084\\\\\n",
       "\t6 & PC6 &  163.834\\\\\n",
       "\\end{tabular}\n"
      ],
      "text/markdown": [
       "\n",
       "A data.frame: 6 × 2\n",
       "\n",
       "| <!--/--> | PC &lt;fct&gt; | Eigenvalue &lt;dbl&gt; |\n",
       "|---|---|---|\n",
       "| 1 | PC1 | 1570.980 |\n",
       "| 2 | PC2 |  443.706 |\n",
       "| 3 | PC3 |  360.164 |\n",
       "| 4 | PC4 |  232.922 |\n",
       "| 5 | PC5 |  189.084 |\n",
       "| 6 | PC6 |  163.834 |\n",
       "\n"
      ],
      "text/plain": [
       "  PC  Eigenvalue\n",
       "1 PC1 1570.980  \n",
       "2 PC2  443.706  \n",
       "3 PC3  360.164  \n",
       "4 PC4  232.922  \n",
       "5 PC5  189.084  \n",
       "6 PC6  163.834  "
      ]
     },
     "metadata": {},
     "output_type": "display_data"
    }
   ],
   "source": [
    "# 建立eigenval的数据框，第一列为PC编号，第二列为对应的特征值\n",
    "eigenval_df <- data.frame(\n",
    "\tPC = paste0(\"PC\", 1:nrow(eigenval)),\n",
    "\tEigenvalue = eigenval$V1\n",
    ")\n",
    "# 按照数值顺序排序PC编号\n",
    "eigenval_df$PC <- factor(eigenval_df$PC, levels = paste0(\"PC\", 1:nrow(eigenval_df)))\n",
    "head(eigenval_df)"
   ]
  },
  {
   "cell_type": "code",
   "execution_count": 31,
   "id": "c18d3224",
   "metadata": {
    "vscode": {
     "languageId": "r"
    }
   },
   "outputs": [],
   "source": [
    "write.csv(eigenval_df, 'PCA_特征值.csv', row.names = FALSE )"
   ]
  },
  {
   "cell_type": "code",
   "execution_count": 32,
   "id": "2de93dcf",
   "metadata": {
    "vscode": {
     "languageId": "r"
    }
   },
   "outputs": [],
   "source": [
    "# 绘制eigenval_df的条形图,按照PC1,PC2,PC3等顺序\n",
    "# x轴标签rotated 45度\n",
    "p1 <- eigenval_df |>\n",
    "    ggplot(aes(x = PC, y = Eigenvalue)) +\n",
    "    geom_bar(stat = \"identity\", fill = \"#478C8C\") +\n",
    "    labs(title = \"Eigenvalues of PCA\", x = \"Principal component\", y = \"Eigenvalue\") +\n",
    "    theme_test() +\n",
    "    geom_text(aes(label = round(Eigenvalue,2)), vjust = -0.5, size = 3.5) +\n",
    "    theme(axis.text.x = element_text(angle = 45, hjust = 1))\n",
    "    "
   ]
  },
  {
   "cell_type": "code",
   "execution_count": 33,
   "id": "bf5c90b0",
   "metadata": {
    "vscode": {
     "languageId": "r"
    }
   },
   "outputs": [],
   "source": [
    "ggsave(p1, filename = \"PCA_eigenvalue.pdf\", width = 6, height = 6, dpi = 300)"
   ]
  }
 ],
 "metadata": {
  "kernelspec": {
   "display_name": "R (System Path)",
   "language": "R",
   "name": "r-base"
  },
  "language_info": {
   "codemirror_mode": "r",
   "file_extension": ".r",
   "mimetype": "text/x-r-source",
   "name": "R",
   "pygments_lexer": "r",
   "version": "4.3.3"
  }
 },
 "nbformat": 4,
 "nbformat_minor": 5
}
